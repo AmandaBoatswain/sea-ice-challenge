{
 "cells": [
  {
   "cell_type": "markdown",
   "metadata": {},
   "source": [
    "# Import external and internal modules"
   ]
  },
  {
   "cell_type": "code",
   "execution_count": null,
   "metadata": {},
   "outputs": [],
   "source": [
    "%matplotlib inline\n",
    "import numpy as np\n",
    "import matplotlib.pyplot as plt\n",
    "import pandas as pd\n",
    "import importlib\n",
    "from mpl_toolkits.basemap import Basemap\n",
    "import math\n",
    "import zipfile\n",
    "import os"
   ]
  },
  {
   "cell_type": "code",
   "execution_count": null,
   "metadata": {},
   "outputs": [],
   "source": [
    "from modules.utils import *\n",
    "# importlib.reload(modules.utils)\n",
    "from modules.utils import *"
   ]
  },
  {
   "cell_type": "markdown",
   "metadata": {},
   "source": [
    "# Read grid data"
   ]
  },
  {
   "cell_type": "code",
   "execution_count": null,
   "metadata": {},
   "outputs": [],
   "source": [
    "lat_csv = 'data/latitude_EASE.csv'\n",
    "lon_csv = 'data/longitude_EASE.csv'\n",
    "grid = generate_ease_grid(lat_csv, lon_csv)\n",
    "print(grid.shape)"
   ]
  },
  {
   "cell_type": "markdown",
   "metadata": {},
   "source": [
    "# Draw the EASE grid on map"
   ]
  },
  {
   "cell_type": "code",
   "execution_count": null,
   "metadata": {},
   "outputs": [],
   "source": [
    "# earth view\n",
    "fig = plt.figure(figsize=(8, 8), edgecolor='w')\n",
    "draw_map([], [], [], [], grid, fig, projection='ortho')"
   ]
  },
  {
   "cell_type": "code",
   "execution_count": null,
   "metadata": {},
   "outputs": [],
   "source": [
    "# zoomed view\n",
    "fig = plt.figure(figsize=(8, 8), edgecolor='w')\n",
    "draw_map([], [], [], [], grid, fig, projection='stere', grid_res=4, width=5000000, height=5000000)"
   ]
  },
  {
   "cell_type": "markdown",
   "metadata": {},
   "source": [
    "# Read the sea ice dataset and clean it up"
   ]
  },
  {
   "cell_type": "code",
   "execution_count": null,
   "metadata": {},
   "outputs": [],
   "source": [
    "data = read_dataset('data/DRIFT_DATA_TRAIN.csv')\n",
    "#print(data.describe())\n",
    "'''\n",
    "data cleaning up\n",
    "'''\n",
    "# Remove any rows that have buoy velocity/mag =0 \n",
    "data = data.drop(data[data[\"u_buoy\"]*data[\"v_buoy\"] == 0].index)\n",
    "data = data.reset_index()\n",
    "\n",
    "# average the ice thickness from two measurements\n",
    "temp = [None]*data.shape[0]\n",
    "# iterate through all the rows and check if thickness is 0\n",
    "for index, row in data.iterrows():\n",
    "    if row[\"h_piomas\"] == 0 :  \n",
    "        if row[\"h_cs2smos\"] > 0: \n",
    "            temp[index] = row[\"h_cs2smos\"]\n",
    "        elif row['sic_CDR'] < 0.001:\n",
    "            temp[index] = 0\n",
    "            \n",
    "    elif row[\"h_piomas\"] > 0:\n",
    "        if row[\"h_cs2smos\"] > 0:\n",
    "            temp[index] = (row[\"h_cs2smos\"] + row[\"h_piomas\"])/2\n",
    "        else: \n",
    "            temp[index] = row[\"h_piomas\"]\n",
    "            \n",
    "    else:\n",
    "         if row[\"h_cs2smos\"] > 0:\n",
    "            temp[index] = row[\"h_cs2smos\"]\n",
    "   \n",
    "        \n",
    "\n",
    "data[\"ice_thickness\"] = temp            \n",
    "\n",
    "# drop original thickness columns\n",
    "data = data.drop(['h_piomas', 'h_cs2smos'], axis = 1)\n",
    "\n",
    "# frop nan rows\n",
    "data = data.dropna()\n",
    "\n",
    "# convert x_EASE and y_EASE to lat and lon\n",
    "# convert velocity components to magnitude and angle\n",
    "lats = []\n",
    "lons = []\n",
    "buoy_vel_mags = []\n",
    "buoy_vel_dirs = []\n",
    "wind_vel_mags = []\n",
    "wind_vel_dirs = []\n",
    "for index, row in data.iterrows(): \n",
    "    # coordinate conversion\n",
    "    x = row['x_EASE']\n",
    "    y = row['y_EASE']\n",
    "    lat, lon = interpolate_coordinate(x, y, grid)\n",
    "    lats.append(lat)\n",
    "    lons.append(lon)\n",
    "\n",
    "    # buoy velocity conversion\n",
    "    buoy_mag, buoy_dir = caonvert_vel_vector(row['u_buoy'], row['v_buoy'])\n",
    "    buoy_vel_mags.append(buoy_mag)\n",
    "    buoy_vel_dirs.append(buoy_dir)\n",
    "\n",
    "    # wind velocity conversion\n",
    "    wind_mag, wind_dir = caonvert_vel_vector(row['u_ERA5'], row['v_ERA5'])\n",
    "    wind_vel_mags.append(wind_mag)\n",
    "    wind_vel_dirs.append(wind_dir)\n",
    "\n",
    "# add the converted data to dataset\n",
    "data['buoy_lat'] = lats\n",
    "data['buoy_lon'] = lons\n",
    "data['buoy_vel_mag'] = buoy_vel_mags\n",
    "data['buoy_vel_dir'] = buoy_vel_dirs\n",
    "data['wind_vel_mag'] = wind_vel_mags\n",
    "data['wind_vel_dir'] = wind_vel_dirs\n",
    "\n",
    "# remove unwanted columns\n",
    "# data = data.drop(['u_buoy', 'v_buoy', 'u_ERA5', 'v_ERA5', 'x_EASE', 'y_EASE'], axis = 1)  \n",
    "\n",
    "# save the converted x_EASE and y_EASE to csv file\n",
    "data.to_csv('data/converted.csv', index=False)  "
   ]
  },
  {
   "cell_type": "code",
   "execution_count": null,
   "metadata": {},
   "outputs": [],
   "source": [
    "# read the dataset from the saved csv file to prevent running the above cell\n",
    "data = pd.read_csv('data/converted.csv')  "
   ]
  },
  {
   "cell_type": "code",
   "execution_count": null,
   "metadata": {},
   "outputs": [],
   "source": [
    "# normalize the thickness\n",
    "data['ice_thick_norm'] =(data['ice_thickness'] - data['ice_thickness'].min()) / (data['ice_thickness'].max() - data['ice_thickness'].min())\n",
    "data['buoy_vel_norm'] =(data['buoy_vel_mag'] - data['buoy_vel_mag'].min()) / (data['buoy_vel_mag'].max() - data['buoy_vel_mag'].min())"
   ]
  },
  {
   "cell_type": "markdown",
   "metadata": {},
   "source": [
    "# Visualize the dataset as a time series"
   ]
  },
  {
   "cell_type": "code",
   "execution_count": null,
   "metadata": {},
   "outputs": [],
   "source": [
    "years_list = list(pd.unique(data['year']))\n",
    "\n",
    "if not os.path.exists('pictures/vis'):\n",
    "    os.makedirs('pictures/vis')\n",
    "\n",
    "for year in years_list:\n",
    "        \n",
    "    df = data[data['year'] == year]\n",
    "    buoys_list = pd.unique(df['id_buoy'])\n",
    "\n",
    "    fig = plt.figure(figsize=(8, 8), edgecolor='w')\n",
    "    for b in buoys_list:\n",
    "        df_b = df[df['id_buoy'] == b]\n",
    "        lat, lon = df_b['buoy_lat'].to_list(), df_b['buoy_lon'].to_list()\n",
    "        thick = df_b['ice_thick_norm'].to_list()\n",
    "\n",
    "        visualize(lat, lon, grid, fig, projection='stere', \n",
    "                 show_grid=False, grid_res=4, width=5000000, height=5000000, \n",
    "                  show_text=True, year=year, thick=thick)"
   ]
  },
  {
   "cell_type": "markdown",
   "metadata": {},
   "source": [
    "# monthly avergae for all buoys through years"
   ]
  },
  {
   "cell_type": "code",
   "execution_count": null,
   "metadata": {},
   "outputs": [],
   "source": [
    "import random\n",
    "\n",
    "if not os.path.exists('pictures'):\n",
    "    os.makedirs('pictures')\n",
    "\n",
    "if not os.path.exists('pictures/all'):\n",
    "    os.makedirs('pictures/all')\n",
    "    \n",
    "buoys_list = list(pd.unique(data['id_buoy']))\n",
    "years_list = list(pd.unique(data['year']))\n",
    "\n",
    "# assign color to each buoy randomely\n",
    "colors = []\n",
    "r = random.random\n",
    "for i in range(0,len(buoys_list)):\n",
    "    rgb =  (r(),r(), 0)\n",
    "    colors.append(rgb)\n",
    "\n",
    "    \n",
    "for year in years_list:\n",
    "    # create the folders\n",
    "    if not os.path.exists('pictures/{}'.format(year)):\n",
    "        os.makedirs('pictures/{}'.format(year))\n",
    "\n",
    "    df = data[data['year'] == year]\n",
    "    month_list = list(pd.unique(df['month']))\n",
    "\n",
    "    lat_avg = df.groupby(['month','id_buoy']).agg({'buoy_lat': ['mean']})     #agg({'buoy_lat': ['mean', 'min', 'max','std']})\n",
    "    lon_avg = df.groupby(['month','id_buoy']).agg({'buoy_lon': ['mean']}) \n",
    "    thick_avg = df.groupby(['month','id_buoy']).agg({'ice_thick_norm': ['mean']}) \n",
    "    vel_avg = df.groupby(['month','id_buoy']).agg({'buoy_vel_norm': ['mean']}) \n",
    "\n",
    "    fig = plt.figure(figsize=(8, 8), edgecolor='w')\n",
    "    for m in month_list:\n",
    "        lat = lat_avg.loc[m, ('buoy_lat', 'mean')].values\n",
    "        lon = lon_avg.loc[m, ('buoy_lon', 'mean')].values\n",
    "        thick = thick_avg.loc[m, ('ice_thick_norm', 'mean')].values\n",
    "        vel = vel_avg.loc[m, ('buoy_vel_norm', 'mean')].values\n",
    "        current_buoys = list((lat_avg.loc[m, ('buoy_lat', 'mean')]).index)\n",
    "        color = []\n",
    "        for b in current_buoys:\n",
    "            idx = buoys_list.index(b)\n",
    "            color.append(colors[idx])\n",
    "\n",
    "        draw_map(lat, lon, thick, color, grid, fig, projection='stere', \n",
    "                 show_grid=False, grid_res=4, width=4000000, height=4000000,\n",
    "                 year=year, month=m, doy=[])\n"
   ]
  },
  {
   "cell_type": "markdown",
   "metadata": {},
   "source": [
    "# motion of one buoy through years"
   ]
  },
  {
   "cell_type": "code",
   "execution_count": null,
   "metadata": {},
   "outputs": [],
   "source": [
    "import random\n",
    "\n",
    "if not os.path.exists('pictures'):\n",
    "    os.makedirs('pictures')\n",
    "\n",
    "if not os.path.exists('pictures/all'):\n",
    "    os.makedirs('pictures/all')\n",
    "\n",
    "    # find the most repeated buoys and plot their motion\n",
    "dfl = data.groupby('id_buoy')['year'].nunique()\n",
    "dfl = dfl.sort_values(ascending=False)\n",
    "print(dfl)\n",
    "\n",
    "buoy = 2416\n",
    "df = data[data['id_buoy'] == buoy]\n",
    "years_list = pd.unique(df['year'])\n",
    "\n",
    "    \n",
    "for year in years_list:\n",
    "    if year < 2002:\n",
    "        continue\n",
    "    # create the folders\n",
    "    if not os.path.exists('pictures/{}'.format(year)):\n",
    "        os.makedirs('pictures/{}'.format(year))\n",
    "\n",
    "    dfn = df[df['year'] == year]\n",
    "    month_list = list(pd.unique(dfn['month']))\n",
    "\n",
    "    lat = list(dfn['buoy_lat'].values)\n",
    "    lon = list(dfn['buoy_lon'].values)\n",
    "    thickness = list(dfn['ice_thick_norm'].values)\n",
    "    doy = list(dfn['doy'].values)\n",
    "\n",
    "    for i in range(len(lat)):\n",
    "        fig = plt.figure(figsize=(8, 8), edgecolor='w')\n",
    "        draw_map([lat[i]], [lon[i]], thickness[i] , thickness[i], grid, fig, projection='stere', \n",
    "                 show_grid=False, grid_res=4, width=4000000, height=4000000,\n",
    "                 year=year, month=1, doy=doy[i])        \n",
    "    "
   ]
  },
  {
   "cell_type": "code",
   "execution_count": null,
   "metadata": {},
   "outputs": [],
   "source": []
  }
 ],
 "metadata": {
  "kernelspec": {
   "display_name": "Python 3.8.5 64-bit ('.hack')",
   "language": "python",
   "name": "python38564bithack53bc31e56d28430eb90a34f623204bce"
  },
  "language_info": {
   "codemirror_mode": {
    "name": "ipython",
    "version": 3
   },
   "file_extension": ".py",
   "mimetype": "text/x-python",
   "name": "python",
   "nbconvert_exporter": "python",
   "pygments_lexer": "ipython3",
   "version": "3.8.5"
  }
 },
 "nbformat": 4,
 "nbformat_minor": 2
}